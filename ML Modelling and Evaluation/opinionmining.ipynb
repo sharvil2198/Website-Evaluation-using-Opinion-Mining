{
 "cells": [
  {
   "cell_type": "code",
   "execution_count": 2,
   "metadata": {},
   "outputs": [],
   "source": [
    "import nltk\n",
    "from nltk.tokenize import sent_tokenize\n",
    "from nltk.tokenize import word_tokenize\n",
    "from nltk.corpus import stopwords\n",
    "from nltk.probability import FreqDist\n",
    "import pandas as pd\n",
    "import json\n",
    "from textblob import TextBlob\n",
    "import re\n",
    "\n",
    "def show_opinion(x):\n",
    "    \n",
    "    tokenized_text=sent_tokenize(x)\n",
    "    add=0\n",
    "    avg = 0\n",
    "    count = 0\n",
    "    \n",
    "    sentiment = ''\n",
    "    \n",
    "    stop_words=set(stopwords.words())\n",
    "\n",
    "    for sent in tokenized_text:\n",
    "        if (sent not in stop_words):\n",
    "            if sent == '[]':\n",
    "                res = TextBlob(titles1[i]).sentiment.polarity\n",
    "                print(\"sentence : \\t\\t\",titles1[i])\n",
    "            else:\n",
    "                res = TextBlob(sent).sentiment.polarity\n",
    "\n",
    "            add +=res\n",
    "            count+=1\n",
    "        \n",
    "    if count != 0:\n",
    "        avg = add/count\n",
    "\n",
    "    if avg > 0.01:\n",
    "        opinion =  \"Positive\"\n",
    "    elif avg < -0.01:\n",
    "        opinion = \"Negative\"\n",
    "    else:\n",
    "        opinion = \"Neutral\"\n",
    "  \n",
    "    return round(avg,2),opinion\n",
    "\n"
   ]
  },
  {
   "cell_type": "code",
   "execution_count": 3,
   "metadata": {},
   "outputs": [],
   "source": [
    "excel = pd.read_excel(\"reviews.xlsx\")"
   ]
  },
  {
   "cell_type": "code",
   "execution_count": 4,
   "metadata": {},
   "outputs": [],
   "source": [
    "excel['opinion'] = excel.review_body.apply(lambda x: show_opinion(x))"
   ]
  },
  {
   "cell_type": "code",
   "execution_count": 5,
   "metadata": {},
   "outputs": [],
   "source": [
    "excel[['score','sent']]= excel.opinion.apply(lambda x: pd.Series(str(x).split()))\n",
    "excel['sent'] = excel.sent.apply(lambda x:re.sub(r'[^\\w\\s]','',x))"
   ]
  },
  {
   "cell_type": "code",
   "execution_count": 6,
   "metadata": {},
   "outputs": [
    {
     "data": {
      "text/html": [
       "<div>\n",
       "<style scoped>\n",
       "    .dataframe tbody tr th:only-of-type {\n",
       "        vertical-align: middle;\n",
       "    }\n",
       "\n",
       "    .dataframe tbody tr th {\n",
       "        vertical-align: top;\n",
       "    }\n",
       "\n",
       "    .dataframe thead th {\n",
       "        text-align: right;\n",
       "    }\n",
       "</style>\n",
       "<table border=\"1\" class=\"dataframe\">\n",
       "  <thead>\n",
       "    <tr style=\"text-align: right;\">\n",
       "      <th></th>\n",
       "      <th>Unnamed: 0</th>\n",
       "      <th>URL</th>\n",
       "      <th>business_unit</th>\n",
       "      <th>reviewer_id</th>\n",
       "      <th>reviewer_name</th>\n",
       "      <th>review_header</th>\n",
       "      <th>review_body</th>\n",
       "      <th>star_rating</th>\n",
       "      <th>location</th>\n",
       "      <th>count_review_by_user</th>\n",
       "      <th>opinion</th>\n",
       "      <th>score</th>\n",
       "      <th>sent</th>\n",
       "    </tr>\n",
       "  </thead>\n",
       "  <tbody>\n",
       "    <tr>\n",
       "      <th>0</th>\n",
       "      <td>0</td>\n",
       "      <td>https://ca.trustpilot.com/reviews/60315b13f85d...</td>\n",
       "      <td>Amazon</td>\n",
       "      <td>60315b094b6bae001a4128b7</td>\n",
       "      <td>Gary Osborn</td>\n",
       "      <td>Amazon is great about taking your money\\u2026</td>\n",
       "      <td>Amazon is great about taking your money throug...</td>\n",
       "      <td>['1']</td>\n",
       "      <td>US</td>\n",
       "      <td>1 review</td>\n",
       "      <td>(0.4, Positive)</td>\n",
       "      <td>(0.4,</td>\n",
       "      <td>Positive</td>\n",
       "    </tr>\n",
       "    <tr>\n",
       "      <th>1</th>\n",
       "      <td>1</td>\n",
       "      <td>https://ca.trustpilot.com/reviews/60314f28f85d...</td>\n",
       "      <td>Amazon</td>\n",
       "      <td>5357e87f00006400016fad3d</td>\n",
       "      <td>KENNETH CAIRNS</td>\n",
       "      <td>Amazon Let Down By Hermes</td>\n",
       "      <td>No problem with Amazon usually until today. Ha...</td>\n",
       "      <td>['1']</td>\n",
       "      <td>GB</td>\n",
       "      <td>11 reviews</td>\n",
       "      <td>(-0.02, Negative)</td>\n",
       "      <td>(-0.02,</td>\n",
       "      <td>Negative</td>\n",
       "    </tr>\n",
       "    <tr>\n",
       "      <th>2</th>\n",
       "      <td>2</td>\n",
       "      <td>https://ca.trustpilot.com/reviews/60314d86f85d...</td>\n",
       "      <td>Amazon</td>\n",
       "      <td>58fd17810000ff000a904fd2</td>\n",
       "      <td>Mark Gregory</td>\n",
       "      <td>What on earth is going on with my item\\u2026</td>\n",
       "      <td>What on earth is going on with my item because...</td>\n",
       "      <td>['1']</td>\n",
       "      <td>GB</td>\n",
       "      <td>11 reviews</td>\n",
       "      <td>(-0.13, Negative)</td>\n",
       "      <td>(-0.13,</td>\n",
       "      <td>Negative</td>\n",
       "    </tr>\n",
       "    <tr>\n",
       "      <th>3</th>\n",
       "      <td>3</td>\n",
       "      <td>https://ca.trustpilot.com/reviews/60313c90f85d...</td>\n",
       "      <td>Amazon</td>\n",
       "      <td>60313b74bae32a0019ebd436</td>\n",
       "      <td>gbgb</td>\n",
       "      <td>\\ud83d\\ude32\\u2658  \\uff43\\uff55\\uff53\\uff54\\u...</td>\n",
       "      <td>Two items ordered on my account not by me, con...</td>\n",
       "      <td>['2']</td>\n",
       "      <td>IN</td>\n",
       "      <td>2 reviews</td>\n",
       "      <td>(-0.03, Negative)</td>\n",
       "      <td>(-0.03,</td>\n",
       "      <td>Negative</td>\n",
       "    </tr>\n",
       "    <tr>\n",
       "      <th>4</th>\n",
       "      <td>4</td>\n",
       "      <td>https://ca.trustpilot.com/reviews/60312f9df85d...</td>\n",
       "      <td>Amazon</td>\n",
       "      <td>560938da0000ff0001df072a</td>\n",
       "      <td>Jamie Holder</td>\n",
       "      <td>Two items ordered on my account not by\\u2026</td>\n",
       "      <td>Two items ordered on my account not by me, con...</td>\n",
       "      <td>['1']</td>\n",
       "      <td>GB</td>\n",
       "      <td>5 reviews</td>\n",
       "      <td>(-0.03, Negative)</td>\n",
       "      <td>(-0.03,</td>\n",
       "      <td>Negative</td>\n",
       "    </tr>\n",
       "    <tr>\n",
       "      <th>5</th>\n",
       "      <td>5</td>\n",
       "      <td>https://ca.trustpilot.com/reviews/60312d98f85d...</td>\n",
       "      <td>Amazon</td>\n",
       "      <td>60312d90d37e8b001a2c1ed4</td>\n",
       "      <td>Harry Leschke</td>\n",
       "      <td>Delivery date never met.</td>\n",
       "      <td>Amazon puts a delivery date on the order, but ...</td>\n",
       "      <td>['1']</td>\n",
       "      <td>US</td>\n",
       "      <td>1 review</td>\n",
       "      <td>(0.06, Positive)</td>\n",
       "      <td>(0.06,</td>\n",
       "      <td>Positive</td>\n",
       "    </tr>\n",
       "    <tr>\n",
       "      <th>6</th>\n",
       "      <td>6</td>\n",
       "      <td>https://ca.trustpilot.com/reviews/60312bdaf85d...</td>\n",
       "      <td>Amazon</td>\n",
       "      <td>60312bd1d37e8b001a2c1d9a</td>\n",
       "      <td>liam lewis</td>\n",
       "      <td>Prime + 24 hours for an investigation</td>\n",
       "      <td>No matter what I do they always mess up my ord...</td>\n",
       "      <td>['1']</td>\n",
       "      <td>GB</td>\n",
       "      <td>1 review</td>\n",
       "      <td>(0.11, Positive)</td>\n",
       "      <td>(0.11,</td>\n",
       "      <td>Positive</td>\n",
       "    </tr>\n",
       "    <tr>\n",
       "      <th>7</th>\n",
       "      <td>7</td>\n",
       "      <td>https://ca.trustpilot.com/reviews/60311bcdf85d...</td>\n",
       "      <td>Amazon</td>\n",
       "      <td>6031172abb3faf00199565bd</td>\n",
       "      <td>Scot Trekkers</td>\n",
       "      <td>Very happy Prime Member</td>\n",
       "      <td>Absolutely love Amazon. It has been a lifeline...</td>\n",
       "      <td>['5']</td>\n",
       "      <td>GB</td>\n",
       "      <td>3 reviews</td>\n",
       "      <td>(0.46, Positive)</td>\n",
       "      <td>(0.46,</td>\n",
       "      <td>Positive</td>\n",
       "    </tr>\n",
       "    <tr>\n",
       "      <th>8</th>\n",
       "      <td>8</td>\n",
       "      <td>https://ca.trustpilot.com/reviews/6031148af85d...</td>\n",
       "      <td>Amazon</td>\n",
       "      <td>602ba23eb9d941001aeedfac</td>\n",
       "      <td>Mark Richardson</td>\n",
       "      <td>Highly impressed.</td>\n",
       "      <td>Ordered a few items in the January sales and a...</td>\n",
       "      <td>['4']</td>\n",
       "      <td>GB</td>\n",
       "      <td>5 reviews</td>\n",
       "      <td>(0.22, Positive)</td>\n",
       "      <td>(0.22,</td>\n",
       "      <td>Positive</td>\n",
       "    </tr>\n",
       "    <tr>\n",
       "      <th>9</th>\n",
       "      <td>9</td>\n",
       "      <td>https://ca.trustpilot.com/reviews/6030f2eef85d...</td>\n",
       "      <td>Amazon</td>\n",
       "      <td>602fbb834d2c59001b358e0c</td>\n",
       "      <td>J. Kunes</td>\n",
       "      <td>Lost 3 returns</td>\n",
       "      <td>Customer service has hit an all time low.Retur...</td>\n",
       "      <td>['1']</td>\n",
       "      <td>US</td>\n",
       "      <td>2 reviews</td>\n",
       "      <td>(-0.09, Negative)</td>\n",
       "      <td>(-0.09,</td>\n",
       "      <td>Negative</td>\n",
       "    </tr>\n",
       "    <tr>\n",
       "      <th>10</th>\n",
       "      <td>10</td>\n",
       "      <td>https://ca.trustpilot.com/reviews/6030855bf85d...</td>\n",
       "      <td>Amazon</td>\n",
       "      <td>60308291d5456800192147ac</td>\n",
       "      <td>Don Smith</td>\n",
       "      <td>Some of the best customer service I\\\\u0027ve\\u...</td>\n",
       "      <td>Some of the best customer service I've ever ex...</td>\n",
       "      <td>['5']</td>\n",
       "      <td>US</td>\n",
       "      <td>2 reviews</td>\n",
       "      <td>(0.9, Positive)</td>\n",
       "      <td>(0.9,</td>\n",
       "      <td>Positive</td>\n",
       "    </tr>\n",
       "    <tr>\n",
       "      <th>11</th>\n",
       "      <td>11</td>\n",
       "      <td>https://ca.trustpilot.com/reviews/603083d5f85d...</td>\n",
       "      <td>Amazon</td>\n",
       "      <td>5adaa5e64de5666d343fe9f0</td>\n",
       "      <td>Craig Stone</td>\n",
       "      <td>Too big to care</td>\n",
       "      <td>I ordered a pet carrier and the sell page said...</td>\n",
       "      <td>['1']</td>\n",
       "      <td>US</td>\n",
       "      <td>5 reviews</td>\n",
       "      <td>(0.01, Positive)</td>\n",
       "      <td>(0.01,</td>\n",
       "      <td>Positive</td>\n",
       "    </tr>\n",
       "    <tr>\n",
       "      <th>12</th>\n",
       "      <td>12</td>\n",
       "      <td>https://ca.trustpilot.com/reviews/60305769f85d...</td>\n",
       "      <td>Amazon</td>\n",
       "      <td>60304e5ad37e8b001a2bb4d8</td>\n",
       "      <td>Kyle Delaney</td>\n",
       "      <td>Disdainful customer service</td>\n",
       "      <td>Even ignoring the corruption, the profiteering...</td>\n",
       "      <td>['1']</td>\n",
       "      <td>US</td>\n",
       "      <td>2 reviews</td>\n",
       "      <td>(-0.01, Neutral)</td>\n",
       "      <td>(-0.01,</td>\n",
       "      <td>Neutral</td>\n",
       "    </tr>\n",
       "    <tr>\n",
       "      <th>13</th>\n",
       "      <td>13</td>\n",
       "      <td>https://ca.trustpilot.com/reviews/60304cfcf85d...</td>\n",
       "      <td>Amazon</td>\n",
       "      <td>6009535b6d10d9001a61ab78</td>\n",
       "      <td>TM</td>\n",
       "      <td>Never had an issue</td>\n",
       "      <td>Never had an issue, fast delivery and good pro...</td>\n",
       "      <td>['5']</td>\n",
       "      <td>GB</td>\n",
       "      <td>4 reviews</td>\n",
       "      <td>(0.45, Positive)</td>\n",
       "      <td>(0.45,</td>\n",
       "      <td>Positive</td>\n",
       "    </tr>\n",
       "    <tr>\n",
       "      <th>14</th>\n",
       "      <td>14</td>\n",
       "      <td>https://ca.trustpilot.com/reviews/6030036bf85d...</td>\n",
       "      <td>Amazon</td>\n",
       "      <td>603003654d2c59001b35bd27</td>\n",
       "      <td>Cynthia Miller</td>\n",
       "      <td>Amazon tanks twice</td>\n",
       "      <td>It has really gotten bad. Not worth the money....</td>\n",
       "      <td>['1']</td>\n",
       "      <td>US</td>\n",
       "      <td>1 review</td>\n",
       "      <td>(-0.01, Neutral)</td>\n",
       "      <td>(-0.01,</td>\n",
       "      <td>Neutral</td>\n",
       "    </tr>\n",
       "    <tr>\n",
       "      <th>15</th>\n",
       "      <td>15</td>\n",
       "      <td>https://ca.trustpilot.com/reviews/602ff6f6f85d...</td>\n",
       "      <td>Amazon</td>\n",
       "      <td>5dfc887931bb5aa9d88cd625</td>\n",
       "      <td>lucielcma</td>\n",
       "      <td>Love amazon</td>\n",
       "      <td>Love amazon, they have a massive variety of pr...</td>\n",
       "      <td>['5']</td>\n",
       "      <td>GB</td>\n",
       "      <td>7 reviews</td>\n",
       "      <td>(0.11, Positive)</td>\n",
       "      <td>(0.11,</td>\n",
       "      <td>Positive</td>\n",
       "    </tr>\n",
       "    <tr>\n",
       "      <th>16</th>\n",
       "      <td>16</td>\n",
       "      <td>https://ca.trustpilot.com/reviews/602fd064f85d...</td>\n",
       "      <td>Amazon</td>\n",
       "      <td>5ff645195d959f001a6522ac</td>\n",
       "      <td>KYG</td>\n",
       "      <td>Too Many Chinese Counterfeit Knockoffs Sold</td>\n",
       "      <td>More and more of the products on Amazon are co...</td>\n",
       "      <td>['1']</td>\n",
       "      <td>US</td>\n",
       "      <td>7 reviews</td>\n",
       "      <td>(0.03, Positive)</td>\n",
       "      <td>(0.03,</td>\n",
       "      <td>Positive</td>\n",
       "    </tr>\n",
       "    <tr>\n",
       "      <th>17</th>\n",
       "      <td>17</td>\n",
       "      <td>https://ca.trustpilot.com/reviews/602fd02df85d...</td>\n",
       "      <td>Amazon</td>\n",
       "      <td>602fd028c78f6b001ab69c18</td>\n",
       "      <td>Corey Gillam</td>\n",
       "      <td>Don\\\\u0027t buy from Amazon</td>\n",
       "      <td>Ordered a few different item within a few days...</td>\n",
       "      <td>['1']</td>\n",
       "      <td>US</td>\n",
       "      <td>1 review</td>\n",
       "      <td>(-0.19, Negative)</td>\n",
       "      <td>(-0.19,</td>\n",
       "      <td>Negative</td>\n",
       "    </tr>\n",
       "    <tr>\n",
       "      <th>18</th>\n",
       "      <td>18</td>\n",
       "      <td>https://ca.trustpilot.com/reviews/602f8a93f85d...</td>\n",
       "      <td>Amazon</td>\n",
       "      <td>60151a2b9e67fc001980b8f2</td>\n",
       "      <td>N. L.</td>\n",
       "      <td>Used to be a good company but all this\\u2026</td>\n",
       "      <td>Used to be a good company but all this is in t...</td>\n",
       "      <td>['1']</td>\n",
       "      <td>TH</td>\n",
       "      <td>3 reviews</td>\n",
       "      <td>(0.2, Positive)</td>\n",
       "      <td>(0.2,</td>\n",
       "      <td>Positive</td>\n",
       "    </tr>\n",
       "    <tr>\n",
       "      <th>19</th>\n",
       "      <td>19</td>\n",
       "      <td>https://ca.trustpilot.com/reviews/602f58edf85d...</td>\n",
       "      <td>Amazon</td>\n",
       "      <td>5e345ae8e5a4c780618c3b75</td>\n",
       "      <td>Michael Hamilton</td>\n",
       "      <td>I ordered 4 Bitcoin Miners from Amazon\\u2026</td>\n",
       "      <td>I ordered 4 Bitcoin Miners from Amazon on Jan ...</td>\n",
       "      <td>['1']</td>\n",
       "      <td>GB</td>\n",
       "      <td>6 reviews</td>\n",
       "      <td>(0.04, Positive)</td>\n",
       "      <td>(0.04,</td>\n",
       "      <td>Positive</td>\n",
       "    </tr>\n",
       "  </tbody>\n",
       "</table>\n",
       "</div>"
      ],
      "text/plain": [
       "    Unnamed: 0                                                URL  \\\n",
       "0            0  https://ca.trustpilot.com/reviews/60315b13f85d...   \n",
       "1            1  https://ca.trustpilot.com/reviews/60314f28f85d...   \n",
       "2            2  https://ca.trustpilot.com/reviews/60314d86f85d...   \n",
       "3            3  https://ca.trustpilot.com/reviews/60313c90f85d...   \n",
       "4            4  https://ca.trustpilot.com/reviews/60312f9df85d...   \n",
       "5            5  https://ca.trustpilot.com/reviews/60312d98f85d...   \n",
       "6            6  https://ca.trustpilot.com/reviews/60312bdaf85d...   \n",
       "7            7  https://ca.trustpilot.com/reviews/60311bcdf85d...   \n",
       "8            8  https://ca.trustpilot.com/reviews/6031148af85d...   \n",
       "9            9  https://ca.trustpilot.com/reviews/6030f2eef85d...   \n",
       "10          10  https://ca.trustpilot.com/reviews/6030855bf85d...   \n",
       "11          11  https://ca.trustpilot.com/reviews/603083d5f85d...   \n",
       "12          12  https://ca.trustpilot.com/reviews/60305769f85d...   \n",
       "13          13  https://ca.trustpilot.com/reviews/60304cfcf85d...   \n",
       "14          14  https://ca.trustpilot.com/reviews/6030036bf85d...   \n",
       "15          15  https://ca.trustpilot.com/reviews/602ff6f6f85d...   \n",
       "16          16  https://ca.trustpilot.com/reviews/602fd064f85d...   \n",
       "17          17  https://ca.trustpilot.com/reviews/602fd02df85d...   \n",
       "18          18  https://ca.trustpilot.com/reviews/602f8a93f85d...   \n",
       "19          19  https://ca.trustpilot.com/reviews/602f58edf85d...   \n",
       "\n",
       "   business_unit               reviewer_id     reviewer_name  \\\n",
       "0         Amazon  60315b094b6bae001a4128b7       Gary Osborn   \n",
       "1         Amazon  5357e87f00006400016fad3d    KENNETH CAIRNS   \n",
       "2         Amazon  58fd17810000ff000a904fd2      Mark Gregory   \n",
       "3         Amazon  60313b74bae32a0019ebd436              gbgb   \n",
       "4         Amazon  560938da0000ff0001df072a      Jamie Holder   \n",
       "5         Amazon  60312d90d37e8b001a2c1ed4     Harry Leschke   \n",
       "6         Amazon  60312bd1d37e8b001a2c1d9a        liam lewis   \n",
       "7         Amazon  6031172abb3faf00199565bd     Scot Trekkers   \n",
       "8         Amazon  602ba23eb9d941001aeedfac   Mark Richardson   \n",
       "9         Amazon  602fbb834d2c59001b358e0c          J. Kunes   \n",
       "10        Amazon  60308291d5456800192147ac         Don Smith   \n",
       "11        Amazon  5adaa5e64de5666d343fe9f0       Craig Stone   \n",
       "12        Amazon  60304e5ad37e8b001a2bb4d8      Kyle Delaney   \n",
       "13        Amazon  6009535b6d10d9001a61ab78                TM   \n",
       "14        Amazon  603003654d2c59001b35bd27    Cynthia Miller   \n",
       "15        Amazon  5dfc887931bb5aa9d88cd625         lucielcma   \n",
       "16        Amazon  5ff645195d959f001a6522ac               KYG   \n",
       "17        Amazon  602fd028c78f6b001ab69c18      Corey Gillam   \n",
       "18        Amazon  60151a2b9e67fc001980b8f2             N. L.   \n",
       "19        Amazon  5e345ae8e5a4c780618c3b75  Michael Hamilton   \n",
       "\n",
       "                                        review_header  \\\n",
       "0       Amazon is great about taking your money\\u2026   \n",
       "1                           Amazon Let Down By Hermes   \n",
       "2        What on earth is going on with my item\\u2026   \n",
       "3   \\ud83d\\ude32\\u2658  \\uff43\\uff55\\uff53\\uff54\\u...   \n",
       "4        Two items ordered on my account not by\\u2026   \n",
       "5                            Delivery date never met.   \n",
       "6               Prime + 24 hours for an investigation   \n",
       "7                             Very happy Prime Member   \n",
       "8                                   Highly impressed.   \n",
       "9                                      Lost 3 returns   \n",
       "10  Some of the best customer service I\\\\u0027ve\\u...   \n",
       "11                                    Too big to care   \n",
       "12                        Disdainful customer service   \n",
       "13                                 Never had an issue   \n",
       "14                                 Amazon tanks twice   \n",
       "15                                        Love amazon   \n",
       "16        Too Many Chinese Counterfeit Knockoffs Sold   \n",
       "17                        Don\\\\u0027t buy from Amazon   \n",
       "18       Used to be a good company but all this\\u2026   \n",
       "19       I ordered 4 Bitcoin Miners from Amazon\\u2026   \n",
       "\n",
       "                                          review_body star_rating location  \\\n",
       "0   Amazon is great about taking your money throug...       ['1']       US   \n",
       "1   No problem with Amazon usually until today. Ha...       ['1']       GB   \n",
       "2   What on earth is going on with my item because...       ['1']       GB   \n",
       "3   Two items ordered on my account not by me, con...       ['2']       IN   \n",
       "4   Two items ordered on my account not by me, con...       ['1']       GB   \n",
       "5   Amazon puts a delivery date on the order, but ...       ['1']       US   \n",
       "6   No matter what I do they always mess up my ord...       ['1']       GB   \n",
       "7   Absolutely love Amazon. It has been a lifeline...       ['5']       GB   \n",
       "8   Ordered a few items in the January sales and a...       ['4']       GB   \n",
       "9   Customer service has hit an all time low.Retur...       ['1']       US   \n",
       "10  Some of the best customer service I've ever ex...       ['5']       US   \n",
       "11  I ordered a pet carrier and the sell page said...       ['1']       US   \n",
       "12  Even ignoring the corruption, the profiteering...       ['1']       US   \n",
       "13  Never had an issue, fast delivery and good pro...       ['5']       GB   \n",
       "14  It has really gotten bad. Not worth the money....       ['1']       US   \n",
       "15  Love amazon, they have a massive variety of pr...       ['5']       GB   \n",
       "16  More and more of the products on Amazon are co...       ['1']       US   \n",
       "17  Ordered a few different item within a few days...       ['1']       US   \n",
       "18  Used to be a good company but all this is in t...       ['1']       TH   \n",
       "19  I ordered 4 Bitcoin Miners from Amazon on Jan ...       ['1']       GB   \n",
       "\n",
       "   count_review_by_user            opinion    score      sent  \n",
       "0              1 review    (0.4, Positive)    (0.4,  Positive  \n",
       "1            11 reviews  (-0.02, Negative)  (-0.02,  Negative  \n",
       "2            11 reviews  (-0.13, Negative)  (-0.13,  Negative  \n",
       "3             2 reviews  (-0.03, Negative)  (-0.03,  Negative  \n",
       "4             5 reviews  (-0.03, Negative)  (-0.03,  Negative  \n",
       "5              1 review   (0.06, Positive)   (0.06,  Positive  \n",
       "6              1 review   (0.11, Positive)   (0.11,  Positive  \n",
       "7             3 reviews   (0.46, Positive)   (0.46,  Positive  \n",
       "8             5 reviews   (0.22, Positive)   (0.22,  Positive  \n",
       "9             2 reviews  (-0.09, Negative)  (-0.09,  Negative  \n",
       "10            2 reviews    (0.9, Positive)    (0.9,  Positive  \n",
       "11            5 reviews   (0.01, Positive)   (0.01,  Positive  \n",
       "12            2 reviews   (-0.01, Neutral)  (-0.01,   Neutral  \n",
       "13            4 reviews   (0.45, Positive)   (0.45,  Positive  \n",
       "14             1 review   (-0.01, Neutral)  (-0.01,   Neutral  \n",
       "15            7 reviews   (0.11, Positive)   (0.11,  Positive  \n",
       "16            7 reviews   (0.03, Positive)   (0.03,  Positive  \n",
       "17             1 review  (-0.19, Negative)  (-0.19,  Negative  \n",
       "18            3 reviews    (0.2, Positive)    (0.2,  Positive  \n",
       "19            6 reviews   (0.04, Positive)   (0.04,  Positive  "
      ]
     },
     "execution_count": 6,
     "metadata": {},
     "output_type": "execute_result"
    }
   ],
   "source": [
    "excel"
   ]
  },
  {
   "cell_type": "code",
   "execution_count": 7,
   "metadata": {},
   "outputs": [],
   "source": [
    "k = excel.sent.value_counts()"
   ]
  },
  {
   "cell_type": "code",
   "execution_count": 8,
   "metadata": {},
   "outputs": [],
   "source": [
    "dict(k)\n",
    "\n",
    "data = dict(k)"
   ]
  },
  {
   "cell_type": "code",
   "execution_count": 164,
   "metadata": {},
   "outputs": [
    {
     "data": {
      "text/plain": [
       "[12, 6, 2]"
      ]
     },
     "execution_count": 164,
     "metadata": {},
     "output_type": "execute_result"
    }
   ],
   "source": [
    "list(k.values)"
   ]
  },
  {
   "cell_type": "code",
   "execution_count": 165,
   "metadata": {},
   "outputs": [
    {
     "data": {
      "text/plain": [
       "['Positive', 'Negative', 'Neutral']"
      ]
     },
     "execution_count": 165,
     "metadata": {},
     "output_type": "execute_result"
    }
   ],
   "source": [
    "list(k.index)"
   ]
  },
  {
   "cell_type": "code",
   "execution_count": 106,
   "metadata": {},
   "outputs": [
    {
     "data": {
      "text/plain": [
       "0"
      ]
     },
     "execution_count": 106,
     "metadata": {},
     "output_type": "execute_result"
    }
   ],
   "source": [
    "len(excel)"
   ]
  },
  {
   "cell_type": "code",
   "execution_count": 105,
   "metadata": {},
   "outputs": [],
   "source": [
    "excel.drop(excel.index, inplace=True)"
   ]
  },
  {
   "cell_type": "code",
   "execution_count": 110,
   "metadata": {},
   "outputs": [
    {
     "data": {
      "text/plain": [
       "0"
      ]
     },
     "execution_count": 110,
     "metadata": {},
     "output_type": "execute_result"
    }
   ],
   "source": [
    "if len(k)<1:\n",
    "    data = {'opinion' : 'percentage', 'good' : 33, 'average' : 33, 'bad' : 33}"
   ]
  },
  {
   "cell_type": "code",
   "execution_count": 111,
   "metadata": {},
   "outputs": [],
   "source": [
    "data = {'opinion' : 'percentage', 'good' : 33, 'average' : 33, 'bad' : 33}"
   ]
  },
  {
   "cell_type": "code",
   "execution_count": 159,
   "metadata": {},
   "outputs": [
    {
     "data": {
      "text/plain": [
       "dict_values([12, 6, 2])"
      ]
     },
     "execution_count": 159,
     "metadata": {},
     "output_type": "execute_result"
    }
   ],
   "source": [
    "data.values()"
   ]
  },
  {
   "cell_type": "code",
   "execution_count": 138,
   "metadata": {},
   "outputs": [
    {
     "data": {
      "text/plain": [
       "['opinion', 'good', 'average', 'bad']"
      ]
     },
     "execution_count": 138,
     "metadata": {},
     "output_type": "execute_result"
    }
   ],
   "source": [
    "list(data)"
   ]
  },
  {
   "cell_type": "code",
   "execution_count": 136,
   "metadata": {},
   "outputs": [],
   "source": [
    "    if len(data)<1:\n",
    "        \n",
    "        data = {'good' : 33, 'average' : 33, 'bad' : 33}"
   ]
  },
  {
   "cell_type": "code",
   "execution_count": 160,
   "metadata": {},
   "outputs": [
    {
     "data": {
      "text/plain": [
       "dict_keys(['Positive', 'Negative', 'Neutral'])"
      ]
     },
     "execution_count": 160,
     "metadata": {},
     "output_type": "execute_result"
    }
   ],
   "source": [
    "data.keys()"
   ]
  },
  {
   "cell_type": "code",
   "execution_count": 133,
   "metadata": {},
   "outputs": [],
   "source": [
    "data ={}"
   ]
  },
  {
   "cell_type": "code",
   "execution_count": 11,
   "metadata": {},
   "outputs": [],
   "source": [
    "dat={}"
   ]
  },
  {
   "cell_type": "code",
   "execution_count": 12,
   "metadata": {},
   "outputs": [
    {
     "data": {
      "text/plain": [
       "{}"
      ]
     },
     "execution_count": 12,
     "metadata": {},
     "output_type": "execute_result"
    }
   ],
   "source": [
    "dat"
   ]
  },
  {
   "cell_type": "code",
   "execution_count": 13,
   "metadata": {},
   "outputs": [],
   "source": [
    "dat['opinion'] = 'percentage'"
   ]
  },
  {
   "cell_type": "code",
   "execution_count": 14,
   "metadata": {},
   "outputs": [
    {
     "data": {
      "text/plain": [
       "{'opinion': 'percentage'}"
      ]
     },
     "execution_count": 14,
     "metadata": {},
     "output_type": "execute_result"
    }
   ],
   "source": [
    "dat"
   ]
  },
  {
   "cell_type": "code",
   "execution_count": 15,
   "metadata": {},
   "outputs": [
    {
     "data": {
      "text/plain": [
       "Positive    12\n",
       "Negative     6\n",
       "Neutral      2\n",
       "Name: sent, dtype: int64"
      ]
     },
     "execution_count": 15,
     "metadata": {},
     "output_type": "execute_result"
    }
   ],
   "source": [
    "k"
   ]
  },
  {
   "cell_type": "code",
   "execution_count": 26,
   "metadata": {},
   "outputs": [],
   "source": [
    "for i,j in k.items():\n",
    "    dat[i] = j"
   ]
  },
  {
   "cell_type": "code",
   "execution_count": 27,
   "metadata": {},
   "outputs": [
    {
     "data": {
      "text/plain": [
       "{'opinion': 'percentage', 'Positive': 12, 'Negative': 6, 'Neutral': 2}"
      ]
     },
     "execution_count": 27,
     "metadata": {},
     "output_type": "execute_result"
    }
   ],
   "source": [
    "dat"
   ]
  },
  {
   "cell_type": "code",
   "execution_count": null,
   "metadata": {},
   "outputs": [],
   "source": []
  }
 ],
 "metadata": {
  "kernelspec": {
   "display_name": "Python 3",
   "language": "python",
   "name": "python3"
  },
  "language_info": {
   "codemirror_mode": {
    "name": "ipython",
    "version": 3
   },
   "file_extension": ".py",
   "mimetype": "text/x-python",
   "name": "python",
   "nbconvert_exporter": "python",
   "pygments_lexer": "ipython3",
   "version": "3.8.5"
  }
 },
 "nbformat": 4,
 "nbformat_minor": 4
}
